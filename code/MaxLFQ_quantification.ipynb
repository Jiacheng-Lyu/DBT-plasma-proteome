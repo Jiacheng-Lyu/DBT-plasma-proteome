{
 "cells": [
  {
   "cell_type": "markdown",
   "metadata": {},
   "source": [
    "# Dual blocker therapy (DBT) plasma proteome Paper — Proteome quantification"
   ]
  },
  {
   "cell_type": "markdown",
   "metadata": {},
   "source": [
    "This Jupyter Notebook (with Python 3 kernel) contained the code for the proteomic quantification of the DBT cohort and independent validation cohort\n",
    "\n",
    "Input files:  \n",
    "* The DIANN output merged files: DBT_DIANN_output_merge.txt, validation_DIANN_output_merge.txt\n",
    "\n",
    "Output files:  \n",
    "* MaxLFQ quantification matrix"
   ]
  },
  {
   "cell_type": "markdown",
   "metadata": {},
   "source": [
    "# MaxLFQ quantification"
   ]
  },
  {
   "cell_type": "code",
   "execution_count": null,
   "metadata": {},
   "outputs": [],
   "source": [
    "import os \n",
    "from rpy2.robjects import r\n",
    "from rpy2.robjects.packages import importr\n",
    "\n",
    "inext = importr(\"iq\") # library R package\n",
    "\n",
    "for name in ['DBT', 'validation']:\n",
    "    rscript = \"\"\"\n",
    "    process_long_format(\"../documents/{}_DIANN_output_merge.txt\", \n",
    "                        output_filename = \"../documents/MaxLFQ/{}-qvalues-0.01.tsv\", \n",
    "                        annotation_col = c(\"Protein.Names\", \"Genes\"),\n",
    "                        filter_double_less = c(\"Q.Value\" = \"0.01\", \"Protein.Q.Value\" = \"0.01\"))\n",
    "    \"\"\".format(name, name.lower())\n",
    "    r(rscript)"
   ]
  },
  {
   "cell_type": "markdown",
   "metadata": {},
   "source": [
    "## MaxLFQ quantification preprocessing"
   ]
  },
  {
   "cell_type": "code",
   "execution_count": null,
   "metadata": {},
   "outputs": [],
   "source": [
    "import pandas as pd\n",
    "\n",
    "path = '../documents/MaxLFQ'\n",
    "for f in os.listdir(path):\n",
    "    if f.endswith('tsv'):\n",
    "        cohort, *_ = f.split('-')\n",
    "        df = pd.read_table(os.path.join(path, f))\n",
    "        df['Genes'] = df['Genes'].str.split(';', expand=True)[0]\n",
    "        df = df.iloc[:, 2:].groupby('Genes').mean()\n",
    "        df.columns = df.columns.map(lambda x: x.split('_')[0])\n",
    "        df.to_csv('../document/{}.csv'.format(cohort))"
   ]
  }
 ],
 "metadata": {
  "kernelspec": {
   "display_name": "Python 3",
   "language": "python",
   "name": "python3"
  },
  "language_info": {
   "codemirror_mode": {
    "name": "ipython",
    "version": 3
   },
   "file_extension": ".py",
   "mimetype": "text/x-python",
   "name": "python",
   "nbconvert_exporter": "python",
   "pygments_lexer": "ipython3",
   "version": "3.9.15"
  }
 },
 "nbformat": 4,
 "nbformat_minor": 2
}
